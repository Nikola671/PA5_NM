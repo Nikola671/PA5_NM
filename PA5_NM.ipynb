{
 "cells": [
  {
   "cell_type": "markdown",
   "id": "a3dcfff2-e2de-4040-8540-d618f5104f5d",
   "metadata": {},
   "source": [
    "# Programming Assignment 5\n",
    "---\n",
    "**Author:** Nikola Mrdak  \n",
    "**Version:** 1.0  \n",
    "**Semester:** Spring 2024 \n",
    "\n",
    "This *notebook* contains my solution(s) to **Programming Assignment 5**"
   ]
  },
  {
   "cell_type": "code",
   "execution_count": 8,
   "id": "6d624a47-9bef-42e1-94be-8985bde875e4",
   "metadata": {
    "tags": []
   },
   "outputs": [],
   "source": [
    "import numpy as np"
   ]
  },
  {
   "cell_type": "markdown",
   "id": "d8606f54-da7c-4a6a-b530-2bb695ea2d72",
   "metadata": {},
   "source": [
    "### Problem 1 - Language Translator"
   ]
  },
  {
   "cell_type": "code",
   "execution_count": 3,
   "id": "892e7e6a-806f-4de9-9916-9948dcdfa644",
   "metadata": {},
   "outputs": [],
   "source": [
    "dictionary={\n",
    "    \"hola\":\"hello\",\n",
    "    \"adios\":\"goodbye\",\n",
    "    \"gracias\":\"thank you\",\n",
    "    \"por favor\":\"please\",\n",
    "    \"si\":\"yes\",\n",
    "    \"no\":\"no\",\n",
    "    \"familia\":\"family\",\n",
    "    \"amor\":\"love\",\n",
    "    \"comida\":\"food\",\n",
    "    \"agua\":\"water\",\n",
    "    \"casa\":\"house\",\n",
    "    \"trabaio\":\"work\",\n",
    "    \"escuela\":\"school\",\n",
    "    \"dinero\":\"money\",\n",
    "    \"tiempo\":\"time\",\n",
    "    \"dia\":\"day\",\n",
    "    \"noche\":\"night\",\n",
    "    \"semana\":\"week\",\n",
    "    \"mes\":\"month\",\n",
    "    \"ano\":\"year\"\n",
    "     }"
   ]
  },
  {
   "cell_type": "code",
   "execution_count": null,
   "id": "b93a969f-9287-465d-b1f0-e9d43a55be2e",
   "metadata": {},
   "outputs": [
    {
     "name": "stdin",
     "output_type": "stream",
     "text": [
      "Enter a word to translate from English to Spanish (enter Q to quit): hello\n"
     ]
    },
    {
     "name": "stdout",
     "output_type": "stream",
     "text": [
      "The Spanish word for hello is not in this dictionary.\n"
     ]
    },
    {
     "name": "stdin",
     "output_type": "stream",
     "text": [
      "Enter a word to translate from English to Spanish (enter Q to quit): Q\n"
     ]
    },
    {
     "name": "stdout",
     "output_type": "stream",
     "text": [
      "The Spanish word for hello is not in this dictionary.\n"
     ]
    }
   ],
   "source": [
    "translator = input(f'Enter a word to translate from English to Spanish (enter Q to quit):')\n",
    "while translator !='Q':    \n",
    "    if translator in dictionary.values()==True:\n",
    "        for spanish, english in dictionary.items():\n",
    "            #if english == translator\n",
    "            print(f'The Spanish word for {english} is {spanish}.')\n",
    "    \n",
    "    else:\n",
    "        print(f'The Spanish word for {translator} is not in this dictionary.')\n",
    "\n",
    "    input(f'Enter a word to translate from English to Spanish (enter Q to quit):')\n",
    "\n",
    "print(f'Biligual Master!')\n",
    "#I was unable to solve this problem. "
   ]
  },
  {
   "cell_type": "markdown",
   "id": "ac89b185-c390-4072-8852-97f6d4742975",
   "metadata": {},
   "source": [
    "### Problem 2 - Translating Morse Code"
   ]
  },
  {
   "cell_type": "code",
   "execution_count": null,
   "id": "e746d150-1ee2-442d-a893-c401cecfa2fa",
   "metadata": {},
   "outputs": [],
   "source": []
  },
  {
   "cell_type": "code",
   "execution_count": null,
   "id": "f7e0bd22-cd59-4fea-9127-890f9d84bf0e",
   "metadata": {},
   "outputs": [],
   "source": []
  },
  {
   "cell_type": "code",
   "execution_count": null,
   "id": "1b49639f-7dfa-4c51-b982-ba7931ad9246",
   "metadata": {},
   "outputs": [],
   "source": []
  },
  {
   "cell_type": "markdown",
   "id": "a42eb76e-cf50-43c4-be90-9282fecccc64",
   "metadata": {},
   "source": [
    "### Problem 3 - Comparing Minors/Majors"
   ]
  },
  {
   "cell_type": "code",
   "execution_count": null,
   "id": "3d7c6dcf-f56d-48ca-812e-b78fe22c86c6",
   "metadata": {},
   "outputs": [],
   "source": [
    "ComputerMinor = {}\n",
    "AdministrationMinor = {}\n",
    "AnalyticsMinor = {}\n",
    "DataScienceMajor = {}"
   ]
  },
  {
   "cell_type": "code",
   "execution_count": null,
   "id": "e4b04828-c0e2-4316-8696-17988f322570",
   "metadata": {},
   "outputs": [],
   "source": []
  },
  {
   "cell_type": "code",
   "execution_count": null,
   "id": "ba9033c5-9ae1-4421-b3b9-c773c8ed57cc",
   "metadata": {},
   "outputs": [],
   "source": []
  },
  {
   "cell_type": "markdown",
   "id": "92cd77be-aef5-4ff5-93a6-4729caacdc6a",
   "metadata": {},
   "source": [
    "### Problem 4 - Working with NumPy"
   ]
  },
  {
   "cell_type": "code",
   "execution_count": 11,
   "id": "f67b73a6-31f7-4744-bc3e-1635b9c2d0d8",
   "metadata": {
    "tags": []
   },
   "outputs": [],
   "source": [
    "#np.dot?"
   ]
  },
  {
   "cell_type": "markdown",
   "id": "f51ed0e6-d444-4128-8d21-fbc0461696c9",
   "metadata": {},
   "source": [
    "#### a)"
   ]
  },
  {
   "cell_type": "code",
   "execution_count": 19,
   "id": "73d17589-ef37-4fbb-bf26-c45d51de311e",
   "metadata": {
    "tags": []
   },
   "outputs": [],
   "source": [
    "A1 = np.random.randint(0,20, size = (5,5))\n",
    "A2 = np.random.randint(0,20, size = (5,5))"
   ]
  },
  {
   "cell_type": "code",
   "execution_count": 2,
   "id": "b63be254-993a-4cc5-ad30-da4fd085bc04",
   "metadata": {
    "tags": []
   },
   "outputs": [],
   "source": [
    "#A1,A2"
   ]
  },
  {
   "cell_type": "code",
   "execution_count": 24,
   "id": "233b5f38-14c5-46ee-a834-debac683bae5",
   "metadata": {
    "tags": []
   },
   "outputs": [],
   "source": [
    "MatrixProduct = np.dot(A1, A2)"
   ]
  },
  {
   "cell_type": "code",
   "execution_count": 26,
   "id": "a5a9c656-e2f6-49ff-9a94-8e43b242e108",
   "metadata": {
    "tags": []
   },
   "outputs": [],
   "source": [
    "DotProduct = np.dot(A1.flatten(), A2.flatten())"
   ]
  },
  {
   "cell_type": "code",
   "execution_count": 37,
   "id": "a4fc73a8-88a0-4a71-a23e-fcb9a1fa09b6",
   "metadata": {
    "tags": []
   },
   "outputs": [
    {
     "name": "stdout",
     "output_type": "stream",
     "text": [
      "Matrix Product:[[637 652 485 478 952]\n",
      " [387 291 249 340 489]\n",
      " [328 234 173 310 443]\n",
      " [572 330 281 506 635]\n",
      " [481 376 344 322 621]]\n",
      "Dot Product: 2046\n"
     ]
    }
   ],
   "source": [
    "print(f'Matrix Product:{MatrixProduct}')\n",
    "print(f'Dot Product: {DotProduct}')"
   ]
  },
  {
   "cell_type": "markdown",
   "id": "0322be91-5856-4c7a-bf25-128751758add",
   "metadata": {},
   "source": [
    "#### b)"
   ]
  },
  {
   "cell_type": "code",
   "execution_count": 23,
   "id": "00ae17b5-f446-42c6-81c1-a214f5d33bfc",
   "metadata": {},
   "outputs": [
    {
     "name": "stdout",
     "output_type": "stream",
     "text": [
      "228629.99999999985\n",
      "-45375.9999999999\n"
     ]
    }
   ],
   "source": [
    "print(np.linalg.det(A1))\n",
    "print(np.linalg.det(A2))"
   ]
  },
  {
   "cell_type": "code",
   "execution_count": 24,
   "id": "e62fb6d3-b8ed-4853-907d-98482844f344",
   "metadata": {},
   "outputs": [
    {
     "name": "stdout",
     "output_type": "stream",
     "text": [
      "[[ 0.01157328  0.05461226 -0.01487994 -0.00984123  0.01215064]\n",
      " [ 0.12384202 -0.07547566  0.07886979 -0.07129423 -0.08086428]\n",
      " [ 0.02981236 -0.04412807 -0.0621397  -0.00494248  0.09365788]\n",
      " [-0.14121506  0.0932686  -0.00891397  0.140489   -0.03034597]\n",
      " [ 0.05731531 -0.03906312  0.09297555 -0.09635656 -0.01125399]]\n",
      "[[-0.00493653  0.29619182 -0.03949224 -0.17771509  0.09943583]\n",
      " [-0.27444023  0.90391396 -0.00802186 -0.41109838  0.2155104 ]\n",
      " [ 0.05875353 -0.40021157  0.09502821  0.17762694 -0.12989245]\n",
      " [ 0.24647391 -0.78843441 -0.02820874  0.37306065 -0.10754584]\n",
      " [-0.00191731 -0.07246121  0.0471615   0.08722673 -0.11316555]]\n"
     ]
    }
   ],
   "source": [
    "print(np.linalg.inv(A1))\n",
    "print(np.linalg.inv(A2))"
   ]
  },
  {
   "cell_type": "markdown",
   "id": "ae847fac-7b28-4cd6-b7b7-50214eb706b0",
   "metadata": {},
   "source": [
    "#### c)"
   ]
  },
  {
   "cell_type": "code",
   "execution_count": 26,
   "id": "9a64832b-7645-45cf-bda5-9b77366c8217",
   "metadata": {},
   "outputs": [],
   "source": [
    "Array1 = np.linspace(0.0,1.0, num = 20)\n"
   ]
  },
  {
   "cell_type": "code",
   "execution_count": 25,
   "id": "ff3cb559-9a31-4d70-af33-15077e42a606",
   "metadata": {},
   "outputs": [],
   "source": [
    "Array2 = np.linspace(1.0,2.0, num = 20)\n"
   ]
  },
  {
   "cell_type": "code",
   "execution_count": 15,
   "id": "ac091a70-04b1-4309-83dd-e18846c41390",
   "metadata": {},
   "outputs": [
    {
     "data": {
      "text/plain": [
       "array([[0.        , 0.05263158, 0.10526316, 0.15789474],\n",
       "       [0.21052632, 0.26315789, 0.31578947, 0.36842105],\n",
       "       [0.42105263, 0.47368421, 0.52631579, 0.57894737],\n",
       "       [0.63157895, 0.68421053, 0.73684211, 0.78947368],\n",
       "       [0.84210526, 0.89473684, 0.94736842, 1.        ],\n",
       "       [1.        , 1.05263158, 1.10526316, 1.15789474],\n",
       "       [1.21052632, 1.26315789, 1.31578947, 1.36842105],\n",
       "       [1.42105263, 1.47368421, 1.52631579, 1.57894737],\n",
       "       [1.63157895, 1.68421053, 1.73684211, 1.78947368],\n",
       "       [1.84210526, 1.89473684, 1.94736842, 2.        ]])"
      ]
     },
     "execution_count": 15,
     "metadata": {},
     "output_type": "execute_result"
    }
   ],
   "source": [
    "Array3 = np.hstack((Array1,Array2)).reshape(10,4)\n",
    "Array3"
   ]
  }
 ],
 "metadata": {
  "kernelspec": {
   "display_name": "Python 3 (ipykernel)",
   "language": "python",
   "name": "python3"
  },
  "language_info": {
   "codemirror_mode": {
    "name": "ipython",
    "version": 3
   },
   "file_extension": ".py",
   "mimetype": "text/x-python",
   "name": "python",
   "nbconvert_exporter": "python",
   "pygments_lexer": "ipython3",
   "version": "3.11.5"
  }
 },
 "nbformat": 4,
 "nbformat_minor": 5
}
